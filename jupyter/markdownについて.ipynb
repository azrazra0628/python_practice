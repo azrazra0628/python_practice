{
 "cells": [
  {
   "cell_type": "markdown",
   "metadata": {},
   "source": [
    "# ***1,markdownの基本***"
   ]
  },
  {
   "cell_type": "markdown",
   "metadata": {
    "scrolled": false
   },
   "source": [
    "# 1-①見出し\n",
    "## 見出し\n",
    "### 見出し\n",
    "#### 見出し\n",
    "##### 見出し\n"
   ]
  },
  {
   "cell_type": "markdown",
   "metadata": {},
   "source": [
    "# 1-②テキストのスタイル\n",
    "\n",
    "*italic*の表示 \n",
    "\n",
    "**bold**の表示 \n",
    "\n",
    "***italic & bold***の表示 \n",
    "\n",
    "~~取り消し線~~の表示\n"
   ]
  },
  {
   "cell_type": "markdown",
   "metadata": {},
   "source": [
    "# 1-③テキストの引用\n",
    "\n",
    "#### 引用文の指定。以下、引用テキスト\n",
    ">引用されたテキスト\n",
    ">>さらに引用されたテキスト\n",
    ">>>さらにさらに引用されたテキスト\n",
    "\n",
    "引用終わり。本文に戻る\n"
   ]
  },
  {
   "cell_type": "markdown",
   "metadata": {},
   "source": [
    "# 1-④ソースコードの記述\n",
    "\n",
    "デフォルトのソースコード\n",
    "\n",
    "```\n",
    "\n",
    "def hello():\n",
    "    print(\"hello\")\n",
    "\n",
    "```\n",
    "\n",
    "```python\n",
    "def hello():\n",
    "    print(\"hello\")\n",
    "\n",
    "```\n",
    "\n",
    "#### 表示の違いが確認できる"
   ]
  },
  {
   "cell_type": "markdown",
   "metadata": {},
   "source": [
    "# 1-⑤仕切り線の表示\n",
    "\n",
    "テキストその1\n",
    "***\n",
    "テキストその2\n",
    "___\n",
    "テキストその3"
   ]
  },
  {
   "cell_type": "markdown",
   "metadata": {},
   "source": [
    "# 1-⑥リンクの作成\n",
    "\n",
    "リンクの表示その1,https://www.google.com リンクの表示\n",
    "\n",
    "リンクの表示その2, [リンク](https://www.google.com) の表示\n",
    "\n",
    "\n",
    "### 引用タイプのリンク\n",
    "\n",
    "#### 引用によるリンクの設定。\n",
    "[google][1]や[yahoo!][2]のリンク\n",
    "\n",
    "[1]: https://www.google.com \"goole\"\n",
    "[2]: https://www.yahoo.co.jp \"yahoo!\""
   ]
  },
  {
   "cell_type": "markdown",
   "metadata": {},
   "source": [
    "# 1-⑦イメージの表示\n",
    "\n",
    "![代用テキスト](sample.jpg \"サンプルイメージ\")"
   ]
  },
  {
   "cell_type": "markdown",
   "metadata": {},
   "source": [
    "# ***2.リストとテーブル***"
   ]
  },
  {
   "cell_type": "markdown",
   "metadata": {},
   "source": [
    "# 2-①箇条書きリスト\n",
    "\n",
    "#### 箇条書きリストの作成。\n",
    "\n",
    "* 最初の項目\n",
    "+ 次の項目\n",
    "- 最後の項目"
   ]
  },
  {
   "cell_type": "markdown",
   "metadata": {},
   "source": [
    "# 2-②階層化されたリスト\n",
    "\n",
    "#### 階層化されたリストの作成。\n",
    "\n",
    "+ 最初の項目\n",
    "    + 内部の項目   \n",
    "    酒井さん\n",
    "        - さらに内部の項目\n",
    "    + 内部の項目その2\n",
    "+ 次の項目\n",
    "    + 内部の項目\n",
    "    + 内部の項目その2\n",
    "    \n",
    "    \n",
    "※インデントする際はタブもしくは半角スペース4つとすること！！\n",
    "\n",
    "\n",
    "#### 階層化されたナンバリングリストの作成\n",
    "\n",
    "1. 最初の項目\n",
    "    1. 内部の項目\n",
    "        1. さらに内部の項目\n",
    "    1. 内部の項目その2\n",
    "1. 次の項目\n",
    "    1. 内部の項目\n",
    "    1. 内部の項目その2\n",
    "    "
   ]
  },
  {
   "cell_type": "markdown",
   "metadata": {},
   "source": [
    "# 2-③定義リストについて\n",
    "\n",
    "#### 定義リストの作成\n",
    "\n",
    "<dl>\n",
    "    <dt>項目その1<dt>\n",
    "    <dd>項目その1の説明テキスト</dd>\n",
    "    <dt>項目その2<dt>\n",
    "    <dd>項目その2の説明テキスト</dd>\n",
    "</dl>\n",
    "\n",
    "※　jupyterlabではタグの認識ができない為要注意"
   ]
  },
  {
   "cell_type": "markdown",
   "metadata": {},
   "source": [
    "# 2-④テーブルの作成\n",
    "\n",
    "#### テーブルの表示\n",
    "\n",
    "|支店|販売数|\n",
    "|:---|:----|\n",
    "|東京|12300|\n",
    "|大阪|4600|\n",
    "|名古屋|5700|\n",
    "|ロンドン|890|\n",
    "\n",
    "#### テーブルの終了\n"
   ]
  },
  {
   "cell_type": "markdown",
   "metadata": {},
   "source": [
    "```python\n",
    "import datetime\n",
    "now = datetime.datetime.now()\n",
    "print (\"Current date and time : \")\n",
    "print (now.strftime(\"%Y-%m-%d %H:%M:%S\"))\n",
    "```"
   ]
  },
  {
   "cell_type": "markdown",
   "metadata": {},
   "source": [
    "# 3-①TeX記法による数式\n",
    "基本として＄で囲む  \n",
    "$1+1$ \n",
    "$$1+1$$ \n",
    "数式はTex(テフ）の記法"
   ]
  },
  {
   "cell_type": "markdown",
   "metadata": {},
   "source": [
    "# 3-②数式を記述する\n",
    "数式 $y = x + 1$を表示する  \n",
    "\n",
    "数式 $$y = x + 1$$を表示する  "
   ]
  },
  {
   "cell_type": "markdown",
   "metadata": {},
   "source": [
    "# 3-③べき乗の記述\n",
    "\n",
    "$$y = x ^ 2$$  \n",
    "\n",
    "\n",
    "$$y = x^{z + 1}$$"
   ]
  },
  {
   "cell_type": "markdown",
   "metadata": {},
   "source": [
    "## 3-④分数の記述\n",
    "\n",
    "$$y = \\frac{1}{3}x$$"
   ]
  },
  {
   "cell_type": "markdown",
   "metadata": {},
   "source": [
    "# 3-⑤三角関数について\n",
    "\n",
    "$$\n",
    "y = \\sin 2 \\pi\\\\\n",
    "y = \\cos 2 \\pi\\\\\n",
    "y = \\tan \\theta\n",
    "$$"
   ]
  },
  {
   "cell_type": "markdown",
   "metadata": {},
   "source": [
    "# 3-⑥ルート(平方根)\n",
    "\n",
    "$$y = \\sqrt[2]{3x^2 + 1}$$  \n",
    "\n",
    "$$y = \\sqrt{ \\frac{1}{3x} }$$"
   ]
  },
  {
   "cell_type": "markdown",
   "metadata": {},
   "source": [
    "# 3-⑦総和について\n",
    "\n",
    "$$\n",
    "\\sum\\\\\n",
    "\\sum_{i=0}^n\\\\\n",
    "\\sum_{i=1}^\\infty a_k^2\n",
    "$$"
   ]
  },
  {
   "cell_type": "markdown",
   "metadata": {},
   "source": [
    "# 3-⑧対数について\n",
    "\n",
    "$$\n",
    "y = \\log x \\\\\n",
    "y = \\log{2} x \\\\\n",
    "y = \\ln 3x\n",
    "$$"
   ]
  },
  {
   "cell_type": "markdown",
   "metadata": {},
   "source": [
    "# 3-⑨極限について\n",
    "\n",
    "```\\lim_{ 値1 \\to 値2}```\n",
    "\n",
    "$$\n",
    "\\lim_{n \\to 0} f(x)\n",
    "$$"
   ]
  },
  {
   "cell_type": "markdown",
   "metadata": {},
   "source": [
    "# 3-⑩微分について\n",
    "\n",
    "$$\n",
    "f(x) \\\\\n",
    "f'(x) \\\\\n",
    "f''(x) \\\\\n",
    "\\frac{dy}{dx}\n",
    "$$"
   ]
  },
  {
   "cell_type": "markdown",
   "metadata": {},
   "source": [
    "# 3-⑪積分について\n",
    "\n",
    "##### 積分記法  \n",
    "```\\int_下付 ^上付```  \n",
    "\n",
    "\n",
    "##### 重積分記法  \n",
    "```\\iint_下付 ^上付```  \n",
    "```\\iiint_下付 ^上付```\n",
    "\n",
    "\n",
    "$$\n",
    "\\int_a^b f(x) dx \\\\\n",
    "\\iint_D dx \\\\\n",
    "\\iiint_D dx \n",
    "$$\n",
    "\n",
    "\n"
   ]
  },
  {
   "cell_type": "markdown",
   "metadata": {},
   "source": [
    "# 3-⑫行列について\n",
    "\n",
    "##### 行列の記法  \n",
    "```\n",
    "\\begin{matrix}\n",
    "値1 & 値2 & ﾞ…　\\\\\n",
    "値1 & 値2 & ﾞ…　\\\\\n",
    "…略…  \n",
    "\\end{matrix}\n",
    "```\n",
    "\n",
    "\\begin{matrix}\n",
    "1 & 0 & 0 \\\\\n",
    "0 & 1 & 0 \\\\\n",
    "0 & 0 & 1 \n",
    "\\end{matrix}  \n",
    "\n",
    "\\begin{pmatrix}\n",
    "1 & 0 & 0 \\\\\n",
    "0 & 1 & 0 \\\\\n",
    "0 & 0 & 1 \n",
    "\\end{pmatrix}  \n",
    "\n",
    "\\begin{bmatrix}\n",
    "1 & 0 & 0 \\\\\n",
    "0 & 1 & 0 \\\\\n",
    "0 & 0 & 1 \n",
    "\\end{bmatrix}  \n",
    "\n",
    "\\begin{vmatrix}\n",
    "1 & 0 & 0 \\\\\n",
    "0 & 1 & 0 \\\\\n",
    "0 & 0 & 1 \n",
    "\\end{vmatrix}\n"
   ]
  },
  {
   "cell_type": "markdown",
   "metadata": {},
   "source": [
    "# 4-①スタイルとカラー\n",
    "\n",
    "##### ・ボールドの指定  \n",
    "```\\mathbf { …内容…}```  \n",
    "\n",
    "##### ・イタリックの指定  \n",
    "```\\mathit { …内容…}```  \n",
    "\n",
    "##### ・色の指定  \n",
    "```\\color {色}{…内容…}```   \n",
    "\n",
    "\n",
    "$$\n",
    "y = \\color{red}{\\frac{3}{4}} \\mathbf{\\pi r^3} \\\\\n",
    "y = \\sqrt{\\color{blue} {\\frac{1}{\\mathit{ax+1}}} }\n",
    "$$"
   ]
  },
  {
   "cell_type": "markdown",
   "metadata": {},
   "source": [
    "# 数式への番号付け\n",
    "\n",
    "##### ```\\label```を使う  \n",
    "\n",
    "\\begin{eqnarray}\\label\n",
    "x^2-6x+4=0 \\\\\n",
    "x_1= \\frac{6+\\sqrt[2]5}{2}\\\\\n",
    "x_2= \\frac{6+\\sqrt[2]5}{2}\\\\\n",
    "x_1= 3+\\sqrt{5} \\\\\n",
    "x_2 =3+\\sqrt{5}\n",
    "\\end{eqnarray}\n",
    "\n",
    "\n",
    "$\\color{red}{※現在使用できません}$"
   ]
  },
  {
   "cell_type": "code",
   "execution_count": null,
   "metadata": {},
   "outputs": [],
   "source": []
  }
 ],
 "metadata": {
  "kernelspec": {
   "display_name": "Python 3",
   "language": "python",
   "name": "python3"
  },
  "language_info": {
   "codemirror_mode": {
    "name": "ipython",
    "version": 3
   },
   "file_extension": ".py",
   "mimetype": "text/x-python",
   "name": "python",
   "nbconvert_exporter": "python",
   "pygments_lexer": "ipython3",
   "version": "3.6.6"
  },
  "widgets": {
   "application/vnd.jupyter.widget-state+json": {
    "state": {},
    "version_major": 2,
    "version_minor": 0
   }
  }
 },
 "nbformat": 4,
 "nbformat_minor": 2
}
