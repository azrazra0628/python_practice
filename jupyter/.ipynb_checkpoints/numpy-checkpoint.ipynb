{
 "cells": [
  {
   "cell_type": "code",
   "execution_count": 1,
   "metadata": {},
   "outputs": [
    {
     "name": "stdout",
     "output_type": "stream",
     "text": [
      "[10 20 30]\n",
      "[0. 0. 0. 0. 0.]\n",
      "[1. 1. 1. 1. 1.]\n"
     ]
    }
   ],
   "source": [
    "import numpy as np\n",
    "\n",
    "arr = np.array([10, 20, 30])\n",
    "print(arr)\n",
    "\n",
    "arr0 = np.zeros(5)\n",
    "arr1 = np.ones(5)\n",
    "print(arr0)\n",
    "print(arr1)"
   ]
  },
  {
   "cell_type": "code",
   "execution_count": 1,
   "metadata": {},
   "outputs": [
    {
     "name": "stdout",
     "output_type": "stream",
     "text": [
      "please enter an interger > 5\n",
      "please enter an interger > 5\n",
      "please enter an interger > 5\n",
      "please enter an interger > 5\n",
      "please enter an interger > 5\n",
      "please enter an interger > 4\n",
      "please enter an interger > 3\n",
      "please enter an interger > 3\n",
      "please enter an interger > 4\n",
      "please enter an interger > 5\n",
      "合計値は44です\n",
      "[+5+,+ +5+,+ +5+,+ +5+,+ +5+,+ +4+,+ +3+,+ +3+,+ +4+,+ +5+]\n"
     ]
    }
   ],
   "source": [
    "total = 0 \n",
    "lst = []\n",
    "for i in range(10):\n",
    "    n =int(input('please enter an interger > '))\n",
    "    total += n\n",
    "    lst.append(n)\n",
    "print('合計値は'+str(total)+'です')\n",
    "\n",
    "print('+'.join(str(lst)))"
   ]
  }
 ],
 "metadata": {
  "kernelspec": {
   "display_name": "Python 3",
   "language": "python",
   "name": "python3"
  },
  "language_info": {
   "codemirror_mode": {
    "name": "ipython",
    "version": 3
   },
   "file_extension": ".py",
   "mimetype": "text/x-python",
   "name": "python",
   "nbconvert_exporter": "python",
   "pygments_lexer": "ipython3",
   "version": "3.6.6"
  }
 },
 "nbformat": 4,
 "nbformat_minor": 2
}
